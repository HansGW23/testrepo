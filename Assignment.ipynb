{
 "cells": [
  {
   "cell_type": "markdown",
   "id": "133600e8",
   "metadata": {},
   "source": [
    "# My Jupyter Notebook on IBM Watson Studio"
   ]
  },
  {
   "cell_type": "markdown",
   "id": "c8a6d78c",
   "metadata": {},
   "source": [
    "HANS\n",
    "\n",
    "Medical device developer"
   ]
  },
  {
   "cell_type": "markdown",
   "id": "7d8bdb6c",
   "metadata": {},
   "source": [
    "*I am interested in Data Sience because I think there are great possibilities with Data Sience in the medical industry*"
   ]
  },
  {
   "cell_type": "markdown",
   "id": "a1699213",
   "metadata": {},
   "source": [
    "### The code in Cell five calculates 1 + 1"
   ]
  },
  {
   "cell_type": "code",
   "execution_count": 1,
   "id": "bef8c9af",
   "metadata": {},
   "outputs": [
    {
     "data": {
      "text/plain": [
       "2"
      ]
     },
     "execution_count": 1,
     "metadata": {},
     "output_type": "execute_result"
    }
   ],
   "source": [
    "1+1"
   ]
  },
  {
   "cell_type": "markdown",
   "id": "a1b181d4",
   "metadata": {},
   "source": [
    "[google](https://www.google.com/)\n",
    "1. item 1\n",
    "1. item 2\n",
    "1. item 3\n",
    "\n",
    "|Header 1| Header 2|\n",
    "|---|---|\n",
    "|cell 1 | cell 2|\n"
   ]
  }
 ],
 "metadata": {
  "kernelspec": {
   "display_name": "Python 3 (ipykernel)",
   "language": "python",
   "name": "python3"
  },
  "language_info": {
   "codemirror_mode": {
    "name": "ipython",
    "version": 3
   },
   "file_extension": ".py",
   "mimetype": "text/x-python",
   "name": "python",
   "nbconvert_exporter": "python",
   "pygments_lexer": "ipython3",
   "version": "3.9.13"
  }
 },
 "nbformat": 4,
 "nbformat_minor": 5
}
